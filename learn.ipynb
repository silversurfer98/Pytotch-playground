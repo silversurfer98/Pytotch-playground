{
 "cells": [
  {
   "cell_type": "code",
   "execution_count": null,
   "metadata": {},
   "outputs": [],
   "source": [
    "import pandas as pd\n",
    "import matplotlib.pyplot as plt\n",
    "df = pd.read_csv(\"framingham_heart_disease.csv\")"
   ]
  },
  {
   "cell_type": "code",
   "execution_count": null,
   "metadata": {},
   "outputs": [],
   "source": [
    "import numpy as np"
   ]
  },
  {
   "cell_type": "code",
   "execution_count": null,
   "metadata": {},
   "outputs": [],
   "source": [
    "# print(df.head())\n",
    "dataX_all = df[['male', 'age', 'totChol', 'sysBP', 'BMI']]\n",
    "dataY_all = df[['TenYearCHD']]\n",
    "t = ~df['male'].apply(np.isnan) & ~df['age'].apply(np.isnan) & ~df['totChol'].apply(np.isnan) & ~df['sysBP'].apply(np.isnan) & ~df['BMI'].apply(np.isnan)\n",
    "del_index = dataX_all[~t].index\n",
    "print(del_index)"
   ]
  },
  {
   "cell_type": "code",
   "execution_count": null,
   "metadata": {},
   "outputs": [],
   "source": [
    "dataX = dataX_all.drop(del_index)\n",
    "dataY = dataY_all.drop(del_index)"
   ]
  },
  {
   "cell_type": "code",
   "execution_count": null,
   "metadata": {},
   "outputs": [],
   "source": [
    "dataY['TenYearCHD'].size"
   ]
  },
  {
   "cell_type": "code",
   "execution_count": null,
   "metadata": {},
   "outputs": [],
   "source": [
    "fig, axes = plt.subplots(2,3, figsize=(20,10))\n",
    "axes[0][0].set_title('male')\n",
    "axes[0][1].set_title('age')\n",
    "axes[0][2].set_title('totChol')\n",
    "axes[1][0].set_title('sysBP')\n",
    "axes[1][1].set_title('BMI')\n",
    "axes[1][2].set_title('TenYearCHD')\n",
    "\n",
    "axes[0][0].hist(dataX['male'], bins = 3)\n",
    "axes[0][1].hist(dataX['age'], bins = 15)\n",
    "axes[0][2].hist(dataX['totChol'], bins = 15)\n",
    "axes[1][0].hist(dataX['sysBP'], bins = 15)\n",
    "axes[1][1].hist(dataX['BMI'], bins = 15)\n",
    "axes[1][2].hist(dataY['TenYearCHD'], bins = 3)"
   ]
  },
  {
   "cell_type": "code",
   "execution_count": null,
   "metadata": {},
   "outputs": [],
   "source": [
    "import torch\n",
    "import torchvision"
   ]
  },
  {
   "cell_type": "code",
   "execution_count": null,
   "metadata": {},
   "outputs": [],
   "source": [
    "train_X, test_X = torch.utils.data.random_split(dataX, [4026, 212])\n",
    "train_Y, test_Y = torch.utils.data.random_split(dataY, [4026, 212])"
   ]
  },
  {
   "cell_type": "code",
   "execution_count": null,
   "metadata": {},
   "outputs": [],
   "source": [
    "train_loader = torch.utils.data.DataLoader(train_X, batch_size=8, shuffle=True)"
   ]
  }
 ],
 "metadata": {
  "kernelspec": {
   "display_name": "Python 3",
   "language": "python",
   "name": "python3"
  },
  "language_info": {
   "codemirror_mode": {
    "name": "ipython",
    "version": 3
   },
   "file_extension": ".py",
   "mimetype": "text/x-python",
   "name": "python",
   "nbconvert_exporter": "python",
   "pygments_lexer": "ipython3",
   "version": "3.10.10"
  },
  "orig_nbformat": 4
 },
 "nbformat": 4,
 "nbformat_minor": 2
}
