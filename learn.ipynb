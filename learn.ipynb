{
 "cells": [
  {
   "cell_type": "code",
   "execution_count": null,
   "metadata": {},
   "outputs": [],
   "source": [
    "import pandas as pd\n",
    "import matplotlib.pyplot as plt\n",
    "import numpy as np\n",
    "df = pd.read_csv(\"framingham_heart_disease.csv\")"
   ]
  },
  {
   "cell_type": "code",
   "execution_count": null,
   "metadata": {},
   "outputs": [],
   "source": [
    "# print(df.head())\n",
    "dataX_all = df[['male', 'age', 'totChol', 'sysBP', 'BMI']]\n",
    "dataY_all = df[['TenYearCHD']]\n",
    "t = ~df['male'].apply(np.isnan) & ~df['age'].apply(np.isnan) & ~df['totChol'].apply(np.isnan) & ~df['sysBP'].apply(np.isnan) & ~df['BMI'].apply(np.isnan)\n",
    "del_index = dataX_all[~t].index\n",
    "print(del_index)"
   ]
  },
  {
   "cell_type": "code",
   "execution_count": null,
   "metadata": {},
   "outputs": [],
   "source": [
    "dataX = dataX_all.drop(del_index)\n",
    "dataY = dataY_all.drop(del_index)"
   ]
  },
  {
   "cell_type": "code",
   "execution_count": null,
   "metadata": {},
   "outputs": [],
   "source": [
    "dataX.to_csv(\"test.csv\")"
   ]
  },
  {
   "cell_type": "code",
   "execution_count": null,
   "metadata": {},
   "outputs": [],
   "source": [
    "dataX[1][1]"
   ]
  },
  {
   "cell_type": "code",
   "execution_count": null,
   "metadata": {},
   "outputs": [],
   "source": [
    "dataY['TenYearCHD'].size"
   ]
  },
  {
   "cell_type": "code",
   "execution_count": null,
   "metadata": {},
   "outputs": [],
   "source": [
    "fig, axes = plt.subplots(2,3, figsize=(20,10))\n",
    "axes[0][0].set_title('male')\n",
    "axes[0][1].set_title('age')\n",
    "axes[0][2].set_title('totChol')\n",
    "axes[1][0].set_title('sysBP')\n",
    "axes[1][1].set_title('BMI')\n",
    "axes[1][2].set_title('TenYearCHD')\n",
    "\n",
    "axes[0][0].hist(dataX['male'], bins = 3)\n",
    "axes[0][1].hist(dataX['age'], bins = 15)\n",
    "axes[0][2].hist(dataX['totChol'], bins = 15)\n",
    "axes[1][0].hist(dataX['sysBP'], bins = 15)\n",
    "axes[1][1].hist(dataX['BMI'], bins = 15)\n",
    "axes[1][2].hist(dataY['TenYearCHD'], bins = 3)"
   ]
  },
  {
   "cell_type": "code",
   "execution_count": null,
   "metadata": {},
   "outputs": [],
   "source": [
    "import os\n",
    "import torch\n",
    "from torch import nn\n",
    "from torch.utils.data import DataLoader\n",
    "from torchvision import datasets, transforms\n",
    "\n",
    "device = (\n",
    "    \"cuda\"\n",
    "    if torch.cuda.is_available()\n",
    "    else \"mps\"\n",
    "    if torch.backends.mps.is_available()\n",
    "    else \"cpu\"\n",
    ")\n",
    "print(f\"Using {device} device\")"
   ]
  },
  {
   "cell_type": "code",
   "execution_count": null,
   "metadata": {},
   "outputs": [],
   "source": [
    "class MyNeuralNetwork(nn.Module):\n",
    "    def __init__(self):\n",
    "        super().__init__()\n",
    "        # self.flatten = nn.Flatten()\n",
    "        self.linear_relu_stack = nn.Sequential(\n",
    "            nn.Linear(5, 512),\n",
    "            nn.ReLU(),\n",
    "            nn.Linear(512, 512),\n",
    "            nn.ReLU(),\n",
    "            nn.Linear(512, 1),\n",
    "            nn.Sigmoid(),\n",
    "        )\n",
    "\n",
    "    def forward(self, x):\n",
    "        # x = self.flatten(x)\n",
    "        logits = self.linear_relu_stack(x)\n",
    "        return logits"
   ]
  },
  {
   "cell_type": "code",
   "execution_count": null,
   "metadata": {},
   "outputs": [],
   "source": [
    "model = MyNeuralNetwork().to(device)\n",
    "print(model)"
   ]
  },
  {
   "cell_type": "code",
   "execution_count": null,
   "metadata": {},
   "outputs": [],
   "source": [
    "x = []\n",
    "x.append(torch.tensor(dataX['male'], dtype=torch.int32))\n",
    "x.append(torch.tensor(dataX['age'], dtype=torch.int32))\n",
    "x.append(torch.tensor(dataX['totChol'], dtype=torch.float64))\n",
    "x.append(torch.tensor(dataX['sysBP'], dtype=torch.float64))\n",
    "x.append(torch.tensor(dataX['BMI'], dtype=torch.float64))\n",
    "x = torch.stack(x)\n",
    "y = []\n",
    "y.append(torch.tensor(dataY['TenYearCHD'], dtype=torch.int32))\n",
    "y = torch.stack(y)"
   ]
  },
  {
   "cell_type": "code",
   "execution_count": null,
   "metadata": {},
   "outputs": [],
   "source": [
    "x = []\n",
    "t = np.zeros(5)\n",
    "for i in range(0,dataX['male'].size):\n",
    "    t[0] = dataX['male'][i]\n",
    "    t[1] = dataX['age'][i]\n",
    "    t[2] = dataX['totChol'][i]\n",
    "    t[3] = dataX['sysBP'][i]\n",
    "    t[4] = dataX['BMI'][i]\n",
    "    print(i,t)\n",
    "    # x.append(torch.tensor(t, dtype=torch.float32))"
   ]
  },
  {
   "cell_type": "code",
   "execution_count": null,
   "metadata": {},
   "outputs": [],
   "source": [
    "x[5]"
   ]
  },
  {
   "cell_type": "code",
   "execution_count": null,
   "metadata": {},
   "outputs": [],
   "source": [
    "train_X, test_X = torch.utils.data.random_split(dataX, [4026, 212])\n",
    "train_Y, test_Y = torch.utils.data.random_split(dataY, [4026, 212])"
   ]
  },
  {
   "cell_type": "code",
   "execution_count": null,
   "metadata": {},
   "outputs": [],
   "source": [
    "train_loader = torch.utils.data.DataLoader(train_X, batch_size=8, shuffle=True)"
   ]
  }
 ],
 "metadata": {
  "kernelspec": {
   "display_name": "Python 3",
   "language": "python",
   "name": "python3"
  },
  "language_info": {
   "codemirror_mode": {
    "name": "ipython",
    "version": 3
   },
   "file_extension": ".py",
   "mimetype": "text/x-python",
   "name": "python",
   "nbconvert_exporter": "python",
   "pygments_lexer": "ipython3",
   "version": "3.10.10"
  },
  "orig_nbformat": 4
 },
 "nbformat": 4,
 "nbformat_minor": 2
}
